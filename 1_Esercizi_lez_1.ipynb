{
 "cells": [
  {
   "cell_type": "markdown",
   "metadata": {},
   "source": [
    "### **1. Trasformare cicli in list comprehension**\n",
    "\n",
    "Fai tre esempi di cicli producono una lista e poi riscrivi lo stesso codice usando la list comprehension"
   ]
  },
  {
   "cell_type": "code",
   "execution_count": 1,
   "metadata": {},
   "outputs": [
    {
     "name": "stdout",
     "output_type": "stream",
     "text": [
      "[0, 1, 2, 3, 4, 5, 6, 7]\n",
      "[0, 1, 2, 3, 4, 5, 6, 7]\n"
     ]
    }
   ],
   "source": [
    "# 1. Lista contenente numeri da 0 a 9\n",
    "# Ciclo: \n",
    "lista = []\n",
    "for i in range(8):\n",
    "    lista.append(i)\n",
    "\n",
    "# List comprehension\n",
    "listaC = [i for i in range(8)]\n",
    "\n",
    "print(lista)\n",
    "print(listaC)"
   ]
  },
  {
   "cell_type": "code",
   "execution_count": 2,
   "metadata": {},
   "outputs": [
    {
     "name": "stdout",
     "output_type": "stream",
     "text": [
      "[1, 3, 5, 7, 9]\n",
      "[1, 3, 5, 7, 9]\n"
     ]
    }
   ],
   "source": [
    "# 2. Lista che ha i primi 5 numeri dispari\n",
    "# Ciclo:\n",
    "dispari = []\n",
    "contatore = 1\n",
    "i = 0\n",
    "while contatore < 6:\n",
    "    if i % 2 != 0:\n",
    "        dispari.append(i)\n",
    "        contatore += 1\n",
    "    i += 1\n",
    "\n",
    "# List comprehension:\n",
    "dispariC = [i for i in range(25) if i % 2 != 0][:5]\n",
    "print(dispari)\n",
    "print(dispariC)"
   ]
  },
  {
   "cell_type": "code",
   "execution_count": 3,
   "metadata": {},
   "outputs": [
    {
     "name": "stdout",
     "output_type": "stream",
     "text": [
      "['ciao', 'persona']\n",
      "['ciao', 'persona']\n"
     ]
    }
   ],
   "source": [
    "# 3. Lista che ha solo le parole che hanno la lettera 'a' al loro interno, della lista chiamata 'parole'\n",
    "#Ciclo:\n",
    "parole = [\"ciao\", \"libro\", \"persona\", \"computer\"]\n",
    "lista = []\n",
    "\n",
    "for parola in parole:\n",
    "    if 'a' in parola:\n",
    "        lista.append(parola)\n",
    "\n",
    "#List comprehension:\n",
    "paroleC = [parola for parola in parole if 'a' in parola]\n",
    "\n",
    "print(lista)\n",
    "print(paroleC)"
   ]
  },
  {
   "cell_type": "markdown",
   "metadata": {},
   "source": [
    "### **2. Vettore di Numeri Primi**\n",
    "\n",
    "1. **Crea un vettore** contenente tutti i numeri primi compresi tra **0 e 10**  \n",
    "   _(Puoi scriverli direttamente nell'array)._\n",
    "\n",
    "2. **Conta quanti numeri ci sono nel vettore** utilizzando la funzione `len()`.  **Ottieni lo stesso numero** accedendo all'attributo `.size` del vettore.\n",
    "\n",
    "3. Quale pensi sia il tipo di dato (`dtype`) del vettore?  Prova a rispondere senza eseguire il codice e Verifica la tua risposta accedendo all'attributo `.dtype` del vettore\n",
    "\n",
    "4. Scrivi l'array usando una list comprehension che controlla che i numeri siano primi. "
   ]
  },
  {
   "cell_type": "code",
   "execution_count": 10,
   "metadata": {},
   "outputs": [
    {
     "name": "stdout",
     "output_type": "stream",
     "text": [
      "[2 3 5 7]\n",
      "4\n",
      "4\n",
      "int64\n",
      "[2 3 5 7]\n"
     ]
    }
   ],
   "source": [
    "# vettore contenente in numeri primi compresi tra 0 e 10\n",
    "import numpy as np\n",
    "vettore = np.array([2, 3, 5, 7])\n",
    "print(vettore)\n",
    "\n",
    "#conto quanti numeri ci sono nel vettore\n",
    "print(len(vettore))\n",
    "#conto quanti numeri ci sono nel vettore accedendo all'attributo size\n",
    "print(vettore.size)\n",
    "#il tipo di dato del vettore è intero perchè viene definito dai numeri che inseriamo e dalla gerarchia\n",
    "print(vettore.dtype)\n",
    "#scrivo l'array usando list comprehention che controlla che i numeri siano primi\n",
    "#definisco prima una funzione che faccia da istruzione condizionale\n",
    "def primo(x):\n",
    "    cont = 0\n",
    "    i = x\n",
    "    while i > 0:\n",
    "        if x % i == 0:\n",
    "            cont += 1 #contatore che tiene il numero di divisori\n",
    "        i -= 1\n",
    "    return cont == 2 #ritorna true solo se x ha 2 divisori( 1 e se stesso)\n",
    "\n",
    "vettoreC = np.array([i for i in range(11) if primo(i)])\n",
    "print(vettoreC)"
   ]
  },
  {
   "cell_type": "markdown",
   "metadata": {},
   "source": [
    "### **3.  Operazioni su array**\n",
    "Crea un array **a**, 1D (senza digitarlo esplicitamente), e genera due nuovi array **b**, contenente una sottostringa a piacere e **c** che è il reverse dell'array **a** (esempio [1,2,3] diventa [3,2,1]) .  Dividi l'array **a** per l'array **c**. Fai la stessa cosa per una lista."
   ]
  },
  {
   "cell_type": "code",
   "execution_count": null,
   "metadata": {},
   "outputs": [],
   "source": []
  }
 ],
 "metadata": {
  "kernelspec": {
   "display_name": "lab2",
   "language": "python",
   "name": "python3"
  },
  "language_info": {
   "codemirror_mode": {
    "name": "ipython",
    "version": 3
   },
   "file_extension": ".py",
   "mimetype": "text/x-python",
   "name": "python",
   "nbconvert_exporter": "python",
   "pygments_lexer": "ipython3",
   "version": "3.11.13"
  }
 },
 "nbformat": 4,
 "nbformat_minor": 2
}
